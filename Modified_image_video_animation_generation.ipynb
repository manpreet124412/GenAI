{
  "cells": [
    {
      "cell_type": "markdown",
      "metadata": {
        "id": "view-in-github",
        "colab_type": "text"
      },
      "source": [
        "<a href=\"https://colab.research.google.com/github/manpreet124412/GenAI/blob/main/Modified_image_video_animation_generation.ipynb\" target=\"_parent\"><img src=\"https://colab.research.google.com/assets/colab-badge.svg\" alt=\"Open In Colab\"/></a>"
      ]
    },
    {
      "cell_type": "markdown",
      "source": [
        "# Title of the Project:\n",
        "##Automated Image and Video Generation with AI (GEN-AI)\n",
        "\n",
        "## Brief Description\n",
        "This project aims to utilize AI models to automatically generate images and videos based on provided prompts. It involves using the Replicate API to generate visually appealing content, such as images depicting given prompts and animations transitioning between different scenes. The project explores the capabilities of AI in creative content generation and its potential applications in various domains.\n",
        "\n",
        "---\n",
        "\n",
        "# Group Members' Information\n",
        "\n",
        "1. **Name:** komaldeep kaur , ID: 4355812\n",
        "2. **Name:** Manpreet Singh , ID: 4356390\n",
        "\n",
        "---\n",
        "\n",
        "# Detailed Project Description\n",
        "\n",
        "## In-depth Explanation/Analysis:\n",
        "The project involves several steps to achieve its objectives. Firstly, it installs the Replicate package and sets up the Replicate API for authentication. Then, it generates images and animations using AI models provided by Replicate, based on user-defined prompts. The generated content is displayed in the Colab notebook for visualization.\n",
        "\n",
        "### Objectives and Expected Outcomes\n",
        "- Explore the capabilities of AI in creative content generation.\n",
        "- Automate the process of image and video creation based on user prompts.\n",
        "- Evaluate the quality and relevance of the generated content.\n",
        "- Understand the potential applications of AI-generated content in various fields.\n",
        "\n",
        "---\n",
        "\n",
        "# Modification/New Addition Specification\n",
        "##Detailed Account of Modifications or New Elements Added:\n",
        "In addition to the original project plan, I made the following modification:\n",
        "\n",
        "- Custom Prompt Input: Modified the code to allow users to input custom prompts for both image and video/gif/animation generation. This modification enhances user interactivity and customization options, enabling users to specify their desired content more precisely.\n",
        "\n",
        "##Explanation of How These Changes Improve or Alter the Original Project:\n",
        "By adding the capability for custom prompt input, users have more control over the generated content. This modification increases the flexibility of the project, allowing users to generate images and animations based on a wider range of prompts tailored to their specific needs or preferences.\n",
        "\n",
        "---\n",
        "\n",
        "# Criteria-Specific\n",
        "##Specifics Depending on Project Type (Automated Image and Video Generation with AI):\n",
        "- Relevance and Application: The project aims to demonstrate the practical application of AI in creative content generation, which is highly relevant in fields such as advertising, entertainment, and marketing.\n",
        "- Innovation and Technical Proficiency: By utilizing AI models for image and video generation, the project showcases innovation in automated content creation. Technical proficiency is demonstrated through the implementation of the Replicate API and the utilization of advanced AI algorithms.\n",
        "\n",
        "\n",
        "---\n",
        "\n",
        "# Reference\n",
        "\n",
        "1. Replicate Documentation. Replicate. https://replicate.com/docs/get-started/python\n",
        "2. Google Colaboratory. https://colab.research.google.com/drive/1-7QeW2EQPggRwT0ddmwqwT5veM09xtQW?usp=sharing\n"
      ],
      "metadata": {
        "id": "M49lstKso4R4"
      }
    },
    {
      "cell_type": "markdown",
      "source": [
        "\n",
        "\n",
        "---\n",
        "\n"
      ],
      "metadata": {
        "id": "Nl-p-EWU6RVk"
      }
    },
    {
      "cell_type": "code",
      "execution_count": 1,
      "metadata": {
        "colab": {
          "base_uri": "https://localhost:8080/"
        },
        "id": "K-f4rzIDbk8n",
        "outputId": "8a72d0f3-4c99-421a-cb3a-157b01a7982b"
      },
      "outputs": [
        {
          "output_type": "stream",
          "name": "stdout",
          "text": [
            "Collecting replicate\n",
            "  Downloading replicate-0.25.1-py3-none-any.whl (39 kB)\n",
            "Collecting httpx<1,>=0.21.0 (from replicate)\n",
            "  Downloading httpx-0.27.0-py3-none-any.whl (75 kB)\n",
            "\u001b[2K     \u001b[90m━━━━━━━━━━━━━━━━━━━━━━━━━━━━━━━━━━━━━━━━\u001b[0m \u001b[32m75.6/75.6 kB\u001b[0m \u001b[31m4.1 MB/s\u001b[0m eta \u001b[36m0:00:00\u001b[0m\n",
            "\u001b[?25hRequirement already satisfied: packaging in /usr/local/lib/python3.10/dist-packages (from replicate) (24.0)\n",
            "Requirement already satisfied: pydantic>1.10.7 in /usr/local/lib/python3.10/dist-packages (from replicate) (2.6.4)\n",
            "Requirement already satisfied: typing-extensions>=4.5.0 in /usr/local/lib/python3.10/dist-packages (from replicate) (4.10.0)\n",
            "Requirement already satisfied: anyio in /usr/local/lib/python3.10/dist-packages (from httpx<1,>=0.21.0->replicate) (3.7.1)\n",
            "Requirement already satisfied: certifi in /usr/local/lib/python3.10/dist-packages (from httpx<1,>=0.21.0->replicate) (2024.2.2)\n",
            "Collecting httpcore==1.* (from httpx<1,>=0.21.0->replicate)\n",
            "  Downloading httpcore-1.0.5-py3-none-any.whl (77 kB)\n",
            "\u001b[2K     \u001b[90m━━━━━━━━━━━━━━━━━━━━━━━━━━━━━━━━━━━━━━━━\u001b[0m \u001b[32m77.9/77.9 kB\u001b[0m \u001b[31m7.5 MB/s\u001b[0m eta \u001b[36m0:00:00\u001b[0m\n",
            "\u001b[?25hRequirement already satisfied: idna in /usr/local/lib/python3.10/dist-packages (from httpx<1,>=0.21.0->replicate) (3.6)\n",
            "Requirement already satisfied: sniffio in /usr/local/lib/python3.10/dist-packages (from httpx<1,>=0.21.0->replicate) (1.3.1)\n",
            "Collecting h11<0.15,>=0.13 (from httpcore==1.*->httpx<1,>=0.21.0->replicate)\n",
            "  Downloading h11-0.14.0-py3-none-any.whl (58 kB)\n",
            "\u001b[2K     \u001b[90m━━━━━━━━━━━━━━━━━━━━━━━━━━━━━━━━━━━━━━━━\u001b[0m \u001b[32m58.3/58.3 kB\u001b[0m \u001b[31m6.0 MB/s\u001b[0m eta \u001b[36m0:00:00\u001b[0m\n",
            "\u001b[?25hRequirement already satisfied: annotated-types>=0.4.0 in /usr/local/lib/python3.10/dist-packages (from pydantic>1.10.7->replicate) (0.6.0)\n",
            "Requirement already satisfied: pydantic-core==2.16.3 in /usr/local/lib/python3.10/dist-packages (from pydantic>1.10.7->replicate) (2.16.3)\n",
            "Requirement already satisfied: exceptiongroup in /usr/local/lib/python3.10/dist-packages (from anyio->httpx<1,>=0.21.0->replicate) (1.2.0)\n",
            "Installing collected packages: h11, httpcore, httpx, replicate\n",
            "Successfully installed h11-0.14.0 httpcore-1.0.5 httpx-0.27.0 replicate-0.25.1\n"
          ]
        }
      ],
      "source": [
        "# @title 1. Install Replicate\n",
        "!pip install replicate"
      ]
    },
    {
      "cell_type": "markdown",
      "source": [
        "##1. I began by installing Replicate using the command !pip install replicate. This allowed me to access the Replicate package functionalities within my Colab notebook."
      ],
      "metadata": {
        "id": "03xL0Alon2h6"
      }
    },
    {
      "cell_type": "code",
      "execution_count": 2,
      "metadata": {
        "id": "cFmhr3PSf4G2"
      },
      "outputs": [],
      "source": [
        "# @title 2.API Token\n",
        "API = \"r8_FVpN6f9UAqIjIv2TygjNMBbP1l5XMzp4GoukI\" # @param {type:\"string\"}\n",
        "import os\n",
        "\n",
        "os.environ[\"REPLICATE_API_TOKEN\"] = API #find it here: https://replicate.com/signin?next=/account/api-tokens\n"
      ]
    },
    {
      "cell_type": "markdown",
      "source": [
        "##2. Next, I set up my Replicate API token by assigning it to a variable named API. I then added this token to the environment variable REPLICATE_API_TOKEN, enabling me to authenticate with the Replicate API."
      ],
      "metadata": {
        "id": "sFTSpliVoGgA"
      }
    },
    {
      "cell_type": "code",
      "execution_count": 3,
      "metadata": {
        "colab": {
          "base_uri": "https://localhost:8080/"
        },
        "id": "0zz83wA6cqSF",
        "outputId": "8cc04024-b01c-4fc5-e6cb-e55a3d9aa5cb"
      },
      "outputs": [
        {
          "output_type": "execute_result",
          "data": {
            "text/plain": [
              "['https://replicate.delivery/pbxt/RU7ofkNLWITCaSlTYwEikbC1Ep4mh5M5CXQKSb1rOUeUu5lSA/out-0.png']"
            ]
          },
          "metadata": {},
          "execution_count": 3
        }
      ],
      "source": [
        "# @title 3. Generate Impage\n",
        "prompt = \"wearing a VR headset\" # @param {type:\"string\"}\n",
        "import replicate\n",
        "\n",
        "output = replicate.run(\n",
        "  \"stability-ai/stable-diffusion:27b93a2413e7f36cd83da926f3656280b2931564ff050bf9575f1fdf9bcd7478\",\n",
        "  input={\"prompt\":prompt}\n",
        ")\n",
        "\n",
        "output"
      ]
    },
    {
      "cell_type": "markdown",
      "source": [
        "##3. To generate an image, I provided a prompt, \"eating car,\" and used the replicate.run() function along with a specific model provided by Replicate. The resulting image was stored in the output_image variable."
      ],
      "metadata": {
        "id": "99b2KkrToOPY"
      }
    },
    {
      "cell_type": "code",
      "execution_count": 4,
      "metadata": {
        "colab": {
          "base_uri": "https://localhost:8080/",
          "height": 534
        },
        "id": "hwXEISnemCLj",
        "outputId": "a1c3dee6-da60-4c96-b3cc-2d424dc12d51"
      },
      "outputs": [
        {
          "output_type": "execute_result",
          "data": {
            "text/html": [
              "<img src=\"https://replicate.delivery/pbxt/RU7ofkNLWITCaSlTYwEikbC1Ep4mh5M5CXQKSb1rOUeUu5lSA/out-0.png\"/>"
            ],
            "text/plain": [
              "<IPython.core.display.Image object>"
            ]
          },
          "metadata": {},
          "execution_count": 4
        }
      ],
      "source": [
        "# @title 4. Show image\n",
        "from IPython.display import Image\n",
        "output_image = output\n",
        "Image(url=output_image[0])"
      ]
    },
    {
      "cell_type": "markdown",
      "source": [
        "##4. After generating the image, I displayed it in my Colab notebook using the Image class from IPython.display."
      ],
      "metadata": {
        "id": "0HNTesaHoSYo"
      }
    },
    {
      "cell_type": "code",
      "execution_count": 5,
      "metadata": {
        "colab": {
          "base_uri": "https://localhost:8080/"
        },
        "id": "Misa5E4QiWNZ",
        "outputId": "cf34c2b2-f7fe-4ea4-e733-6521ab835ba2"
      },
      "outputs": [
        {
          "output_type": "execute_result",
          "data": {
            "text/plain": [
              "<generator object Prediction.output_iterator at 0x79fae3fbace0>"
            ]
          },
          "metadata": {},
          "execution_count": 5
        }
      ],
      "source": [
        "# @title 5. Video/gif/animation/Generation\n",
        "import replicate\n",
        "\n",
        "output = replicate.run(\n",
        "    \"andreasjansson/stable-diffusion-animation:ca1f5e306e5721e19c473e0d094e6603f0456fe759c10715fcd6c1b79242d4a5\",\n",
        "    input={\n",
        "        \"prompt_start\": \"wearing a VR headset\",\n",
        "        \"prompt_end\": \"Removing a VR headset\",\n",
        "        \"output_format\": \"gif\",\n",
        "        \"gif_ping_pong\": True\n",
        "    }\n",
        ")\n",
        "\n",
        "output\n"
      ]
    },
    {
      "cell_type": "markdown",
      "source": [
        "##5. For creating a video/gif/animation, I specified prompts for the start and end frames of the animation (\"wearing a VR headset\" and \"Removing a VR headset\"). Then, I used the replicate.run() function again with the appropriate parameters. The resulting animation was stored in the output_animation variable."
      ],
      "metadata": {
        "id": "tlvYwhh7oVq_"
      }
    },
    {
      "cell_type": "code",
      "execution_count": 6,
      "metadata": {
        "colab": {
          "base_uri": "https://localhost:8080/"
        },
        "id": "BB0LZJTyjA7Z",
        "outputId": "a6ee4c8f-e0d9-44ca-a2ce-bb8b3f155815"
      },
      "outputs": [
        {
          "output_type": "stream",
          "name": "stdout",
          "text": [
            "https://replicate.delivery/pbxt/371dzxufBfteYoHi0Ft4zy2OlligCKBo3M44FPPEAp9oizLlA/video.gif\n"
          ]
        }
      ],
      "source": [
        "# @title generate video\n",
        "for item in output:\n",
        "     #https://replicate.com/andreasjansson/stable-diffusion-animation/versions/ca1f5e306e5721e19c473e0d094e6603f0456fe759c10715fcd6c1b79242d4a5/api#output-schema\n",
        "    print(item)"
      ]
    },
    {
      "cell_type": "markdown",
      "source": [
        "##6. To understand the output better, I iterated over the items in output_animation and printed each one. Each item represented a URL or some information related to the generated animation."
      ],
      "metadata": {
        "id": "kNNm0SY7oY1P"
      }
    },
    {
      "cell_type": "code",
      "execution_count": 7,
      "metadata": {
        "id": "fuPgsixhkxM4",
        "cellView": "form"
      },
      "outputs": [],
      "source": [
        "# @title get the video on colab\n",
        "gif_url= item[0:len(item)]"
      ]
    },
    {
      "cell_type": "markdown",
      "source": [
        "##7. I extracted the URL of the generated GIF from the output_animation variable, which was necessary for displaying the animation in my Colab notebook."
      ],
      "metadata": {
        "id": "w6fZwjtKoggI"
      }
    },
    {
      "cell_type": "code",
      "execution_count": 8,
      "metadata": {
        "colab": {
          "base_uri": "https://localhost:8080/",
          "height": 534
        },
        "id": "6VPPvsE3km93",
        "outputId": "15f0f0c4-d4f8-4b69-e5c1-92ed33d0987d",
        "cellView": "form"
      },
      "outputs": [
        {
          "output_type": "display_data",
          "data": {
            "text/html": [
              "<img src=\"https://replicate.delivery/pbxt/371dzxufBfteYoHi0Ft4zy2OlligCKBo3M44FPPEAp9oizLlA/video.gif\"/>"
            ],
            "text/plain": [
              "<IPython.core.display.Image object>"
            ]
          },
          "metadata": {}
        }
      ],
      "source": [
        "# @title Show the video\n",
        "import requests\n",
        "from IPython.display import display, Image\n",
        "from PIL import Image as PILImage\n",
        "from io import BytesIO\n",
        "response = requests.get(gif_url)\n",
        "if response.status_code == 200:\n",
        "    # Display the GIF in the notebook\n",
        "    display(Image(url=gif_url))\n",
        "\n",
        "    # Save the GIF in the Colab environment\n",
        "    with open(\"gif_output.gif\", \"wb\") as f:\n",
        "        f.write(response.content)\n",
        "\n",
        "    # Show a saved GIF using PIL\n",
        "    saved_gif = PILImage.open(\"gif_output.gif\")\n",
        "    saved_gif.show()\n",
        "else:\n",
        "    print(\"Failed to fetch GIF\")\n"
      ]
    },
    {
      "cell_type": "markdown",
      "source": [
        "##8. Finally, I fetched the GIF using its URL, displayed it in the Colab notebook, saved it locally, and visualized it using PIL (Python Imaging Library). If fetching the GIF failed, I printed a failure message."
      ],
      "metadata": {
        "id": "YP4kX1nNoidS"
      }
    },
    {
      "cell_type": "markdown",
      "source": [
        "# **Thank you**"
      ],
      "metadata": {
        "id": "L8RIUb0o3zL7"
      }
    }
  ],
  "metadata": {
    "colab": {
      "provenance": [],
      "include_colab_link": true
    },
    "kernelspec": {
      "display_name": "Python 3",
      "name": "python3"
    },
    "language_info": {
      "name": "python"
    }
  },
  "nbformat": 4,
  "nbformat_minor": 0
}